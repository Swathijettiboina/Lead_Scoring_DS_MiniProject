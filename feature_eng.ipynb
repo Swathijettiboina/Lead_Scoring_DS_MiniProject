{
 "cells": [
  {
   "cell_type": "code",
   "execution_count": 1,
   "metadata": {},
   "outputs": [],
   "source": [
    "import pandas as pd\n",
    "import numpy as np\n",
    "import matplotlib as mt\n",
    "import seaborn"
   ]
  },
  {
   "cell_type": "code",
   "execution_count": 2,
   "metadata": {},
   "outputs": [],
   "source": [
    "df=pd.read_csv(\"Lead_Scoring_cleaned_data.csv\")"
   ]
  },
  {
   "cell_type": "code",
   "execution_count": 3,
   "metadata": {},
   "outputs": [
    {
     "name": "stdout",
     "output_type": "stream",
     "text": [
      "<class 'pandas.core.frame.DataFrame'>\n",
      "RangeIndex: 9240 entries, 0 to 9239\n",
      "Data columns (total 21 columns):\n",
      " #   Column                                         Non-Null Count  Dtype  \n",
      "---  ------                                         --------------  -----  \n",
      " 0   Prospect ID                                    9240 non-null   object \n",
      " 1   Lead Number                                    9240 non-null   int64  \n",
      " 2   Lead Origin                                    9240 non-null   object \n",
      " 3   Lead Source                                    9240 non-null   object \n",
      " 4   Converted                                      9240 non-null   int64  \n",
      " 5   TotalVisits                                    9240 non-null   float64\n",
      " 6   Total Time Spent on Website                    9240 non-null   int64  \n",
      " 7   Page Views Per Visit                           9240 non-null   float64\n",
      " 8   Last Activity                                  9240 non-null   object \n",
      " 9   Country                                        9240 non-null   object \n",
      " 10  Specialization                                 9240 non-null   object \n",
      " 11  What is your current occupation                9240 non-null   object \n",
      " 12  What matters most to you in choosing a course  9240 non-null   object \n",
      " 13  Tags                                           9240 non-null   object \n",
      " 14  Lead Quality                                   9240 non-null   object \n",
      " 15  Update me on Supply Chain Content              9240 non-null   object \n",
      " 16  Get updates on DM Content                      9240 non-null   object \n",
      " 17  City                                           9240 non-null   object \n",
      " 18  I agree to pay the amount through cheque       9240 non-null   object \n",
      " 19  A free copy of Mastering The Interview         9240 non-null   object \n",
      " 20  Last Notable Activity                          9240 non-null   object \n",
      "dtypes: float64(2), int64(3), object(16)\n",
      "memory usage: 1.5+ MB\n"
     ]
    }
   ],
   "source": [
    "df.info()"
   ]
  },
  {
   "cell_type": "code",
   "execution_count": 4,
   "metadata": {},
   "outputs": [],
   "source": [
    "df['Engagement Score'] = df['TotalVisits'] * df['Page Views Per Visit'] * (df['Total Time Spent on Website'] / 60)  # Convert seconds to minutes"
   ]
  },
  {
   "cell_type": "code",
   "execution_count": 5,
   "metadata": {},
   "outputs": [
    {
     "name": "stdout",
     "output_type": "stream",
     "text": [
      "<class 'pandas.core.frame.DataFrame'>\n",
      "RangeIndex: 9240 entries, 0 to 9239\n",
      "Data columns (total 22 columns):\n",
      " #   Column                                         Non-Null Count  Dtype  \n",
      "---  ------                                         --------------  -----  \n",
      " 0   Prospect ID                                    9240 non-null   object \n",
      " 1   Lead Number                                    9240 non-null   int64  \n",
      " 2   Lead Origin                                    9240 non-null   object \n",
      " 3   Lead Source                                    9240 non-null   object \n",
      " 4   Converted                                      9240 non-null   int64  \n",
      " 5   TotalVisits                                    9240 non-null   float64\n",
      " 6   Total Time Spent on Website                    9240 non-null   int64  \n",
      " 7   Page Views Per Visit                           9240 non-null   float64\n",
      " 8   Last Activity                                  9240 non-null   object \n",
      " 9   Country                                        9240 non-null   object \n",
      " 10  Specialization                                 9240 non-null   object \n",
      " 11  What is your current occupation                9240 non-null   object \n",
      " 12  What matters most to you in choosing a course  9240 non-null   object \n",
      " 13  Tags                                           9240 non-null   object \n",
      " 14  Lead Quality                                   9240 non-null   object \n",
      " 15  Update me on Supply Chain Content              9240 non-null   object \n",
      " 16  Get updates on DM Content                      9240 non-null   object \n",
      " 17  City                                           9240 non-null   object \n",
      " 18  I agree to pay the amount through cheque       9240 non-null   object \n",
      " 19  A free copy of Mastering The Interview         9240 non-null   object \n",
      " 20  Last Notable Activity                          9240 non-null   object \n",
      " 21  Engagement Score                               9240 non-null   float64\n",
      "dtypes: float64(3), int64(3), object(16)\n",
      "memory usage: 1.6+ MB\n"
     ]
    }
   ],
   "source": [
    "df.info()"
   ]
  },
  {
   "cell_type": "code",
   "execution_count": 6,
   "metadata": {},
   "outputs": [
    {
     "data": {
      "text/plain": [
       "0         0.000000\n",
       "1       140.416667\n",
       "2       102.133333\n",
       "3         5.083333\n",
       "4        47.600000\n",
       "           ...    \n",
       "9235    656.820000\n",
       "9236     15.866667\n",
       "9237     13.266667\n",
       "9238     74.850000\n",
       "9239    383.700000\n",
       "Name: Engagement Score, Length: 9240, dtype: float64"
      ]
     },
     "execution_count": 6,
     "metadata": {},
     "output_type": "execute_result"
    }
   ],
   "source": [
    "df['Engagement Score']"
   ]
  },
  {
   "cell_type": "code",
   "execution_count": 7,
   "metadata": {},
   "outputs": [],
   "source": [
    "df.drop(columns=[\"Prospect ID\",\"Lead Number\"],inplace=True)"
   ]
  },
  {
   "cell_type": "code",
   "execution_count": 8,
   "metadata": {},
   "outputs": [],
   "source": [
    "df.drop(columns=[\"City\",\"Country\"],inplace=True)"
   ]
  },
  {
   "cell_type": "code",
   "execution_count": 9,
   "metadata": {},
   "outputs": [],
   "source": [
    "df.drop(columns=[\"Last Notable Activity\"],inplace=True)"
   ]
  },
  {
   "cell_type": "code",
   "execution_count": 10,
   "metadata": {},
   "outputs": [
    {
     "name": "stdout",
     "output_type": "stream",
     "text": [
      "<class 'pandas.core.frame.DataFrame'>\n",
      "RangeIndex: 9240 entries, 0 to 9239\n",
      "Data columns (total 17 columns):\n",
      " #   Column                                         Non-Null Count  Dtype  \n",
      "---  ------                                         --------------  -----  \n",
      " 0   Lead Origin                                    9240 non-null   object \n",
      " 1   Lead Source                                    9240 non-null   object \n",
      " 2   Converted                                      9240 non-null   int64  \n",
      " 3   TotalVisits                                    9240 non-null   float64\n",
      " 4   Total Time Spent on Website                    9240 non-null   int64  \n",
      " 5   Page Views Per Visit                           9240 non-null   float64\n",
      " 6   Last Activity                                  9240 non-null   object \n",
      " 7   Specialization                                 9240 non-null   object \n",
      " 8   What is your current occupation                9240 non-null   object \n",
      " 9   What matters most to you in choosing a course  9240 non-null   object \n",
      " 10  Tags                                           9240 non-null   object \n",
      " 11  Lead Quality                                   9240 non-null   object \n",
      " 12  Update me on Supply Chain Content              9240 non-null   object \n",
      " 13  Get updates on DM Content                      9240 non-null   object \n",
      " 14  I agree to pay the amount through cheque       9240 non-null   object \n",
      " 15  A free copy of Mastering The Interview         9240 non-null   object \n",
      " 16  Engagement Score                               9240 non-null   float64\n",
      "dtypes: float64(3), int64(2), object(12)\n",
      "memory usage: 1.2+ MB\n"
     ]
    }
   ],
   "source": [
    "df.info()"
   ]
  },
  {
   "cell_type": "code",
   "execution_count": 11,
   "metadata": {},
   "outputs": [
    {
     "data": {
      "text/plain": [
       "Lead Quality\n",
       "Not Sure             4835\n",
       "Might be             2584\n",
       "High in Relevance     637\n",
       "Worst                 601\n",
       "Low in Relevance      583\n",
       "Name: count, dtype: int64"
      ]
     },
     "execution_count": 11,
     "metadata": {},
     "output_type": "execute_result"
    }
   ],
   "source": [
    "df[\"Lead Quality\"].value_counts()"
   ]
  },
  {
   "cell_type": "code",
   "execution_count": 12,
   "metadata": {},
   "outputs": [],
   "source": [
    "# Define the mapping (all lowercase)\n",
    "quality_mapping = {\n",
    "    'high in relevance': 4,\n",
    "    'might be': 3,\n",
    "    'not sure': 2,\n",
    "    'low in relevance': 1,\n",
    "    'worst': 0\n",
    "}\n",
    "\n",
    "# Apply mapping after converting to lowercase\n",
    "df['Lead Quality Score'] = df['Lead Quality'].str.lower().map(quality_mapping)"
   ]
  },
  {
   "cell_type": "code",
   "execution_count": 13,
   "metadata": {},
   "outputs": [
    {
     "data": {
      "text/plain": [
       "Lead Quality Score\n",
       "2    4835\n",
       "3    2584\n",
       "4     637\n",
       "0     601\n",
       "1     583\n",
       "Name: count, dtype: int64"
      ]
     },
     "execution_count": 13,
     "metadata": {},
     "output_type": "execute_result"
    }
   ],
   "source": [
    "df[\"Lead Quality Score\"].value_counts()"
   ]
  },
  {
   "cell_type": "code",
   "execution_count": 14,
   "metadata": {},
   "outputs": [
    {
     "data": {
      "text/plain": [
       "Lead Origin                                         5\n",
       "Lead Source                                        22\n",
       "Converted                                           2\n",
       "TotalVisits                                        43\n",
       "Total Time Spent on Website                      1731\n",
       "Page Views Per Visit                              116\n",
       "Last Activity                                      18\n",
       "Specialization                                     19\n",
       "What is your current occupation                     6\n",
       "What matters most to you in choosing a course       3\n",
       "Tags                                               26\n",
       "Lead Quality                                        5\n",
       "Update me on Supply Chain Content                   1\n",
       "Get updates on DM Content                           1\n",
       "I agree to pay the amount through cheque            1\n",
       "A free copy of Mastering The Interview              2\n",
       "Engagement Score                                 4703\n",
       "Lead Quality Score                                  5\n",
       "dtype: int64"
      ]
     },
     "execution_count": 14,
     "metadata": {},
     "output_type": "execute_result"
    }
   ],
   "source": [
    "df.nunique()"
   ]
  },
  {
   "cell_type": "code",
   "execution_count": 15,
   "metadata": {},
   "outputs": [
    {
     "data": {
      "text/plain": [
       "What matters most to you in choosing a course\n",
       "Better Career Prospects      9237\n",
       "Flexibility & Convenience       2\n",
       "Other                           1\n",
       "Name: count, dtype: int64"
      ]
     },
     "execution_count": 15,
     "metadata": {},
     "output_type": "execute_result"
    }
   ],
   "source": [
    "df[\"What matters most to you in choosing a course\"].value_counts()"
   ]
  },
  {
   "cell_type": "code",
   "execution_count": 16,
   "metadata": {},
   "outputs": [
    {
     "data": {
      "text/plain": [
       "What is your current occupation\n",
       "Unemployed              5600\n",
       "Other                   2706\n",
       "Working Professional     706\n",
       "Student                  210\n",
       "Housewife                 10\n",
       "Businessman                8\n",
       "Name: count, dtype: int64"
      ]
     },
     "execution_count": 16,
     "metadata": {},
     "output_type": "execute_result"
    }
   ],
   "source": [
    "df[\"What is your current occupation\"].value_counts()"
   ]
  },
  {
   "cell_type": "code",
   "execution_count": 17,
   "metadata": {},
   "outputs": [
    {
     "data": {
      "text/plain": [
       "Tags\n",
       "Ringing                                              3720\n",
       "Will revert after reading the email                  2908\n",
       "Interested in other courses                           513\n",
       "Already a student                                     465\n",
       "Closed by Horizzon                                    358\n",
       "switched off                                          240\n",
       "Busy                                                  186\n",
       "Lost to EINS                                          175\n",
       "Not doing further education                           145\n",
       "Interested  in full time MBA                          117\n",
       "Graduation in progress                                111\n",
       "invalid number                                         83\n",
       "Diploma holder (Not Eligible)                          63\n",
       "wrong number given                                     47\n",
       "opp hangup                                             33\n",
       "number not provided                                    27\n",
       "in touch with EINS                                     12\n",
       "Lost to Others                                          7\n",
       "Want to take admission but has financial problems       6\n",
       "Still Thinking                                          6\n",
       "In confusion whether part time or DLP                   5\n",
       "Interested in Next batch                                5\n",
       "Lateral student                                         3\n",
       "Shall take in the next coming month                     2\n",
       "University not recognized                               2\n",
       "Recognition issue (DEC approval)                        1\n",
       "Name: count, dtype: int64"
      ]
     },
     "execution_count": 17,
     "metadata": {},
     "output_type": "execute_result"
    }
   ],
   "source": [
    "df[\"Tags\"].value_counts()"
   ]
  },
  {
   "cell_type": "code",
   "execution_count": 18,
   "metadata": {},
   "outputs": [
    {
     "name": "stdout",
     "output_type": "stream",
     "text": [
      "<class 'pandas.core.frame.DataFrame'>\n",
      "RangeIndex: 9240 entries, 0 to 9239\n",
      "Data columns (total 18 columns):\n",
      " #   Column                                         Non-Null Count  Dtype  \n",
      "---  ------                                         --------------  -----  \n",
      " 0   Lead Origin                                    9240 non-null   object \n",
      " 1   Lead Source                                    9240 non-null   object \n",
      " 2   Converted                                      9240 non-null   int64  \n",
      " 3   TotalVisits                                    9240 non-null   float64\n",
      " 4   Total Time Spent on Website                    9240 non-null   int64  \n",
      " 5   Page Views Per Visit                           9240 non-null   float64\n",
      " 6   Last Activity                                  9240 non-null   object \n",
      " 7   Specialization                                 9240 non-null   object \n",
      " 8   What is your current occupation                9240 non-null   object \n",
      " 9   What matters most to you in choosing a course  9240 non-null   object \n",
      " 10  Tags                                           9240 non-null   object \n",
      " 11  Lead Quality                                   9240 non-null   object \n",
      " 12  Update me on Supply Chain Content              9240 non-null   object \n",
      " 13  Get updates on DM Content                      9240 non-null   object \n",
      " 14  I agree to pay the amount through cheque       9240 non-null   object \n",
      " 15  A free copy of Mastering The Interview         9240 non-null   object \n",
      " 16  Engagement Score                               9240 non-null   float64\n",
      " 17  Lead Quality Score                             9240 non-null   int64  \n",
      "dtypes: float64(3), int64(3), object(12)\n",
      "memory usage: 1.3+ MB\n"
     ]
    }
   ],
   "source": [
    "df.info()"
   ]
  },
  {
   "cell_type": "code",
   "execution_count": 19,
   "metadata": {},
   "outputs": [],
   "source": [
    "df.drop(columns=[\"TotalVisits\",\"Page Views Per Visit\",\"Total Time Spent on Website\",\"Lead Quality\",\"Update me on Supply Chain Content\",\"Get updates on DM Content\",\"What matters most to you in choosing a course\",\"I agree to pay the amount through cheque\"],inplace=True)"
   ]
  },
  {
   "cell_type": "code",
   "execution_count": 20,
   "metadata": {},
   "outputs": [
    {
     "name": "stdout",
     "output_type": "stream",
     "text": [
      "<class 'pandas.core.frame.DataFrame'>\n",
      "RangeIndex: 9240 entries, 0 to 9239\n",
      "Data columns (total 10 columns):\n",
      " #   Column                                  Non-Null Count  Dtype  \n",
      "---  ------                                  --------------  -----  \n",
      " 0   Lead Origin                             9240 non-null   object \n",
      " 1   Lead Source                             9240 non-null   object \n",
      " 2   Converted                               9240 non-null   int64  \n",
      " 3   Last Activity                           9240 non-null   object \n",
      " 4   Specialization                          9240 non-null   object \n",
      " 5   What is your current occupation         9240 non-null   object \n",
      " 6   Tags                                    9240 non-null   object \n",
      " 7   A free copy of Mastering The Interview  9240 non-null   object \n",
      " 8   Engagement Score                        9240 non-null   float64\n",
      " 9   Lead Quality Score                      9240 non-null   int64  \n",
      "dtypes: float64(1), int64(2), object(7)\n",
      "memory usage: 722.0+ KB\n"
     ]
    }
   ],
   "source": [
    "df.info()"
   ]
  },
  {
   "cell_type": "code",
   "execution_count": 21,
   "metadata": {},
   "outputs": [
    {
     "data": {
      "text/plain": [
       "Lead Origin                                  5\n",
       "Lead Source                                 22\n",
       "Converted                                    2\n",
       "Last Activity                               18\n",
       "Specialization                              19\n",
       "What is your current occupation              6\n",
       "Tags                                        26\n",
       "A free copy of Mastering The Interview       2\n",
       "Engagement Score                          4703\n",
       "Lead Quality Score                           5\n",
       "dtype: int64"
      ]
     },
     "execution_count": 21,
     "metadata": {},
     "output_type": "execute_result"
    }
   ],
   "source": [
    "df.nunique()"
   ]
  },
  {
   "cell_type": "code",
   "execution_count": 22,
   "metadata": {},
   "outputs": [],
   "source": [
    "# df[\"A free copy of Mastering The Interview\"]=df[\"A free copy of Mastering The Interview\"].replace({\"no\":0,\"yes\":1},inplace=True)"
   ]
  },
  {
   "cell_type": "code",
   "execution_count": 23,
   "metadata": {},
   "outputs": [
    {
     "data": {
      "text/plain": [
       "A free copy of Mastering The Interview\n",
       "No     6352\n",
       "Yes    2888\n",
       "Name: count, dtype: int64"
      ]
     },
     "execution_count": 23,
     "metadata": {},
     "output_type": "execute_result"
    }
   ],
   "source": [
    "df[\"A free copy of Mastering The Interview\"].value_counts()"
   ]
  },
  {
   "cell_type": "code",
   "execution_count": 24,
   "metadata": {},
   "outputs": [
    {
     "data": {
      "text/plain": [
       "A free copy of Mastering The Interview\n",
       "No     6352\n",
       "Yes    2888\n",
       "Name: count, dtype: int64"
      ]
     },
     "execution_count": 24,
     "metadata": {},
     "output_type": "execute_result"
    }
   ],
   "source": [
    "df[\"A free copy of Mastering The Interview\"]=df[\"A free copy of Mastering The Interview\"].replace({\"no\":0,\"yes\":1})\n",
    "df[\"A free copy of Mastering The Interview\"].value_counts()"
   ]
  },
  {
   "cell_type": "code",
   "execution_count": 25,
   "metadata": {},
   "outputs": [],
   "source": [
    "df['A free copy of Mastering The Interview'] = df['A free copy of Mastering The Interview'].apply(lambda x: 1 if x == 'Yes' else 0)"
   ]
  },
  {
   "cell_type": "code",
   "execution_count": 26,
   "metadata": {},
   "outputs": [],
   "source": [
    "df.to_csv(\"features_eng.csv\",index=False)"
   ]
  },
  {
   "cell_type": "code",
   "execution_count": 27,
   "metadata": {},
   "outputs": [
    {
     "name": "stdout",
     "output_type": "stream",
     "text": [
      "<class 'pandas.core.frame.DataFrame'>\n",
      "RangeIndex: 9240 entries, 0 to 9239\n",
      "Data columns (total 10 columns):\n",
      " #   Column                                  Non-Null Count  Dtype  \n",
      "---  ------                                  --------------  -----  \n",
      " 0   Lead Origin                             9240 non-null   object \n",
      " 1   Lead Source                             9240 non-null   object \n",
      " 2   Converted                               9240 non-null   int64  \n",
      " 3   Last Activity                           9240 non-null   object \n",
      " 4   Specialization                          9240 non-null   object \n",
      " 5   What is your current occupation         9240 non-null   object \n",
      " 6   Tags                                    9240 non-null   object \n",
      " 7   A free copy of Mastering The Interview  9240 non-null   int64  \n",
      " 8   Engagement Score                        9240 non-null   float64\n",
      " 9   Lead Quality Score                      9240 non-null   int64  \n",
      "dtypes: float64(1), int64(3), object(6)\n",
      "memory usage: 722.0+ KB\n"
     ]
    }
   ],
   "source": [
    "df.info()"
   ]
  },
  {
   "cell_type": "code",
   "execution_count": 28,
   "metadata": {},
   "outputs": [
    {
     "name": "stdout",
     "output_type": "stream",
     "text": [
      "Requirement already satisfied: scikit-learn in c:\\users\\tottaradhanush\\appdata\\local\\programs\\python\\python312\\lib\\site-packages (1.6.1)\n",
      "Requirement already satisfied: numpy>=1.19.5 in c:\\users\\tottaradhanush\\appdata\\local\\programs\\python\\python312\\lib\\site-packages (from scikit-learn) (2.2.4)\n",
      "Requirement already satisfied: scipy>=1.6.0 in c:\\users\\tottaradhanush\\appdata\\local\\programs\\python\\python312\\lib\\site-packages (from scikit-learn) (1.15.2)\n",
      "Requirement already satisfied: joblib>=1.2.0 in c:\\users\\tottaradhanush\\appdata\\local\\programs\\python\\python312\\lib\\site-packages (from scikit-learn) (1.4.2)\n",
      "Requirement already satisfied: threadpoolctl>=3.1.0 in c:\\users\\tottaradhanush\\appdata\\local\\programs\\python\\python312\\lib\\site-packages (from scikit-learn) (3.6.0)\n",
      "Note: you may need to restart the kernel to use updated packages.\n"
     ]
    },
    {
     "name": "stderr",
     "output_type": "stream",
     "text": [
      "\n",
      "[notice] A new release of pip is available: 24.3.1 -> 25.0.1\n",
      "[notice] To update, run: python.exe -m pip install --upgrade pip\n"
     ]
    }
   ],
   "source": [
    "pip install scikit-learn"
   ]
  },
  {
   "cell_type": "code",
   "execution_count": 29,
   "metadata": {},
   "outputs": [
    {
     "name": "stdout",
     "output_type": "stream",
     "text": [
      "   Lead Origin  Lead Source  Converted  Last Activity  Specialization  \\\n",
      "0            0            6          0             11               4   \n",
      "1            0            7          0              5               4   \n",
      "2            1            1          1              5               1   \n",
      "3            1            1          0             14              11   \n",
      "4            1            3          1              1               4   \n",
      "\n",
      "   What is your current occupation  Tags  \\\n",
      "0                                4     8   \n",
      "1                                4    14   \n",
      "2                                3    19   \n",
      "3                                4    14   \n",
      "4                                4    19   \n",
      "\n",
      "   A free copy of Mastering The Interview  Engagement Score  \\\n",
      "0                                       0          0.000000   \n",
      "1                                       0        140.416667   \n",
      "2                                       1        102.133333   \n",
      "3                                       0          5.083333   \n",
      "4                                       0         47.600000   \n",
      "\n",
      "   Lead Quality Score  \n",
      "0                   1  \n",
      "1                   2  \n",
      "2                   3  \n",
      "3                   2  \n",
      "4                   3  \n",
      "   Lead Source  Lead Origin  Last Activity  Specialization  \\\n",
      "0     0.514315    -1.108763       0.679324       -0.822062   \n",
      "1     0.822145    -1.108763      -0.781678       -0.822062   \n",
      "2    -1.024832     0.469572      -0.781678       -1.476802   \n",
      "3    -1.024832     0.469572       1.409825        0.705664   \n",
      "4    -0.409173     0.469572      -1.755679       -0.822062   \n",
      "\n",
      "   What is your current occupation      Tags  \n",
      "0                         0.537694 -0.971065  \n",
      "1                         0.537694  0.026653  \n",
      "2                        -0.460356  0.858084  \n",
      "3                         0.537694  0.026653  \n",
      "4                         0.537694  0.858084  \n"
     ]
    }
   ],
   "source": [
    "import pandas as pd\n",
    "from sklearn.preprocessing import StandardScaler\n",
    "\n",
    "# Load your dataset\n",
    "\n",
    "# Step 1: Convert categorical columns to numeric values\n",
    "# Ensure you are converting the correct columns\n",
    "df['Lead Source'] = df['Lead Source'].astype('category').cat.codes\n",
    "df['Lead Origin'] = df['Lead Origin'].astype('category').cat.codes\n",
    "df['Last Activity'] = df['Last Activity'].astype('category').cat.codes\n",
    "df['Specialization'] = df['Specialization'].astype('category').cat.codes\n",
    "df['What is your current occupation'] = df['What is your current occupation'].astype('category').cat.codes\n",
    "df['Tags'] = df['Tags'].astype('category').cat.codes\n",
    "print(df.head())\n",
    "\n",
    "# Step 2: Select features to standardize\n",
    "# Assuming you want to standardize the following columns\n",
    "features_to_standardize = ['Lead Source', 'Lead Origin', 'Last Activity', \n",
    "                            'Specialization', 'What is your current occupation', 'Tags']\n",
    "\n",
    "# Step 3: Initialize the StandardScaler\n",
    "scaler = StandardScaler()\n",
    "\n",
    "# Step 4: Fit and transform the selected features\n",
    "df[features_to_standardize] = scaler.fit_transform(df[features_to_standardize])\n",
    "\n",
    "# Step 5: Display the standardized DataFrame\n",
    "print(df[features_to_standardize].head())"
   ]
  },
  {
   "cell_type": "code",
   "execution_count": 30,
   "metadata": {},
   "outputs": [
    {
     "data": {
      "text/plain": [
       "Lead Origin                                  5\n",
       "Lead Source                                 22\n",
       "Converted                                    2\n",
       "Last Activity                               18\n",
       "Specialization                              19\n",
       "What is your current occupation              6\n",
       "Tags                                        26\n",
       "A free copy of Mastering The Interview       2\n",
       "Engagement Score                          4703\n",
       "Lead Quality Score                           5\n",
       "dtype: int64"
      ]
     },
     "execution_count": 30,
     "metadata": {},
     "output_type": "execute_result"
    }
   ],
   "source": [
    "df.nunique()"
   ]
  },
  {
   "cell_type": "code",
   "execution_count": 31,
   "metadata": {},
   "outputs": [],
   "source": [
    "df.to_csv(\"standardized_features.csv\",index=False)"
   ]
  },
  {
   "cell_type": "code",
   "execution_count": null,
   "metadata": {},
   "outputs": [],
   "source": []
  }
 ],
 "metadata": {
  "kernelspec": {
   "display_name": "Python 3",
   "language": "python",
   "name": "python3"
  },
  "language_info": {
   "codemirror_mode": {
    "name": "ipython",
    "version": 3
   },
   "file_extension": ".py",
   "mimetype": "text/x-python",
   "name": "python",
   "nbconvert_exporter": "python",
   "pygments_lexer": "ipython3",
   "version": "3.12.9"
  }
 },
 "nbformat": 4,
 "nbformat_minor": 2
}
