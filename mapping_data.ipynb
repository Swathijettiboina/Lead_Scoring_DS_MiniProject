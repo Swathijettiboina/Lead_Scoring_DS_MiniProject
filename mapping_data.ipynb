{
 "cells": [
  {
   "cell_type": "code",
   "execution_count": 1,
   "metadata": {},
   "outputs": [
    {
     "name": "stdout",
     "output_type": "stream",
     "text": [
      "         Column                                      category_name  \\\n",
      "0   Lead Origin                                                API   \n",
      "1   Lead Origin                            Landing Page Submission   \n",
      "2   Lead Origin                                      Lead Add Form   \n",
      "3   Lead Origin                                        Lead Import   \n",
      "4   Lead Origin                                     Quick Add Form   \n",
      "..          ...                                                ...   \n",
      "91         Tags                                    Lateral student   \n",
      "92         Tags                           Interested in Next batch   \n",
      "93         Tags                   Recognition issue (DEC approval)   \n",
      "94         Tags  Want to take admission but has financial problems   \n",
      "95         Tags                          University not recognized   \n",
      "\n",
      "    Standardized_Value  \n",
      "0            -1.108763  \n",
      "1             0.469572  \n",
      "2             2.047907  \n",
      "3             3.626242  \n",
      "4             5.204577  \n",
      "..                 ...  \n",
      "91           -0.804779  \n",
      "92           -1.137351  \n",
      "93           -0.139634  \n",
      "94            0.691798  \n",
      "95            0.525511  \n",
      "\n",
      "[96 rows x 3 columns]\n"
     ]
    }
   ],
   "source": [
    "import pandas as pd\n",
    "\n",
    "# Load the string values DataFrame\n",
    "string_df = pd.read_csv('features_eng.csv')  # Replace with your actual file name\n",
    "\n",
    "# Load the integer values DataFrame\n",
    "integer_df = pd.read_csv('standardized_features.csv')  # Replace with your actual file name\n",
    "\n",
    "# Create a mapping dictionary\n",
    "mapping_dict = {}\n",
    "string_df.drop(columns=['Engagement Score','Lead Quality Score','Converted','A free copy of Mastering The Interview'], inplace=True)\n",
    "\n",
    "# Assuming both DataFrames have the same structure and the same categorical columns\n",
    "for column in string_df.columns:\n",
    "    if column in integer_df.columns:\n",
    "        # Create a mapping for the current column\n",
    "        mapping_dict[column] = {\n",
    "            string_value: integer_value \n",
    "            for string_value, integer_value in zip(string_df[column], integer_df[column])\n",
    "        }\n",
    "\n",
    "# Create a DataFrame for the mapping\n",
    "mapping_df = pd.DataFrame([(column, string_value, integer_value) \n",
    "                            for column, mapping in mapping_dict.items() \n",
    "                            for string_value, integer_value in mapping.items()],\n",
    "                          columns=['Column', 'category_name', 'Standardized_Value'])\n",
    "\n",
    "# Save the mapping DataFrame to a CSV file\n",
    "mapping_df.to_csv('mapping_file.csv', index=False)\n",
    "\n",
    "# Display the mapping DataFrame\n",
    "print(mapping_df)"
   ]
  }
 ],
 "metadata": {
  "kernelspec": {
   "display_name": "Python 3",
   "language": "python",
   "name": "python3"
  },
  "language_info": {
   "codemirror_mode": {
    "name": "ipython",
    "version": 3
   },
   "file_extension": ".py",
   "mimetype": "text/x-python",
   "name": "python",
   "nbconvert_exporter": "python",
   "pygments_lexer": "ipython3",
   "version": "3.12.9"
  }
 },
 "nbformat": 4,
 "nbformat_minor": 2
}
